{
 "cells": [
  {
   "cell_type": "code",
   "execution_count": 1,
   "metadata": {
    "collapsed": false
   },
   "outputs": [
    {
     "name": "stderr",
     "output_type": "stream",
     "text": [
      "D:\\Anaconda3(4.2.0)\\lib\\site-packages\\sklearn\\cross_validation.py:44: DeprecationWarning: This module was deprecated in version 0.18 in favor of the model_selection module into which all the refactored classes and functions are moved. Also note that the interface of the new CV iterators are different from that of this module. This module will be removed in 0.20.\n",
      "  \"This module will be removed in 0.20.\", DeprecationWarning)\n"
     ]
    }
   ],
   "source": [
    "import pandas as pd\n",
    "import numpy as np\n",
    "import matplotlib.pyplot as plt\n",
    "import seaborn as sns\n",
    "import xgboost as xgb\n",
    "\n",
    "%matplotlib inline"
   ]
  },
  {
   "cell_type": "code",
   "execution_count": 2,
   "metadata": {
    "collapsed": true
   },
   "outputs": [],
   "source": [
    "train_df =pd.read_csv(\"data/train.csv\", parse_dates=['timestamp'])"
   ]
  },
  {
   "cell_type": "code",
   "execution_count": 4,
   "metadata": {
    "collapsed": true
   },
   "outputs": [
    {
     "data": {
      "text/plain": [
       "2014.0        919\n",
       "2015.0        824\n",
       "0.0           530\n",
       "2013.0        464\n",
       "1970.0        418\n",
       "1969.0        407\n",
       "1968.0        389\n",
       "1967.0        384\n",
       "1965.0        378\n",
       "2016.0        375\n",
       "1.0           368\n",
       "1972.0        360\n",
       "1974.0        357\n",
       "1971.0        352\n",
       "1966.0        348\n",
       "1960.0        344\n",
       "1962.0        338\n",
       "1973.0        333\n",
       "1963.0        325\n",
       "1964.0        315\n",
       "1975.0        309\n",
       "1961.0        297\n",
       "1976.0        263\n",
       "1977.0        260\n",
       "2006.0        242\n",
       "1979.0        236\n",
       "1978.0        235\n",
       "2008.0        234\n",
       "2012.0        233\n",
       "1980.0        226\n",
       "             ... \n",
       "1936.0          5\n",
       "1947.0          4\n",
       "1924.0          3\n",
       "1949.0          3\n",
       "1914.0          3\n",
       "1941.0          2\n",
       "3.0             2\n",
       "1943.0          2\n",
       "1946.0          2\n",
       "1860.0          2\n",
       "1907.0          2\n",
       "1896.0          2\n",
       "1900.0          2\n",
       "1876.0          1\n",
       "1691.0          1\n",
       "20.0            1\n",
       "215.0           1\n",
       "71.0            1\n",
       "2018.0          1\n",
       "4965.0          1\n",
       "1920.0          1\n",
       "1886.0          1\n",
       "1895.0          1\n",
       "1904.0          1\n",
       "1905.0          1\n",
       "1906.0          1\n",
       "1911.0          1\n",
       "1925.0          1\n",
       "1948.0          1\n",
       "20052009.0      1\n",
       "Name: build_year, dtype: int64"
      ]
     },
     "execution_count": 4,
     "metadata": {},
     "output_type": "execute_result"
    }
   ],
   "source": [
    "train_df.build_year.value_counts()"
   ]
  },
  {
   "cell_type": "code",
   "execution_count": 5,
   "metadata": {
    "collapsed": false
   },
   "outputs": [
    {
     "data": {
      "text/plain": [
       "<matplotlib.axes._subplots.AxesSubplot at 0xdd0acb0>"
      ]
     },
     "execution_count": 5,
     "metadata": {},
     "output_type": "execute_result"
    },
    {
     "data": {
      "image/png": "[encoded data removed]",
      "text/plain": [
       "<matplotlib.figure.Figure at 0x428b2f0>"
      ]
     },
     "metadata": {},
     "output_type": "display_data"
    }
   ],
   "source": [
    "train_df.plot.scatter(x='material', y='price_doc')"
   ]
  },
  {
   "cell_type": "code",
   "execution_count": 3,
   "metadata": {
    "collapsed": false
   },
   "outputs": [
    {
     "data": {
      "text/plain": [
       "Investment       19448\n",
       "OwnerOccupier    11023\n",
       "Name: product_type, dtype: int64"
      ]
     },
     "execution_count": 3,
     "metadata": {},
     "output_type": "execute_result"
    }
   ],
   "source": [
    "train_df.product_type.value_counts()"
   ]
  },
  {
   "cell_type": "code",
   "execution_count": 5,
   "metadata": {
    "collapsed": false
   },
   "outputs": [
    {
     "data": {
      "text/plain": [
       "Index(['id', 'timestamp', 'full_sq', 'life_sq', 'floor', 'max_floor',\n",
       "       'material', 'build_year', 'num_room', 'kitch_sq', 'state',\n",
       "       'product_type', 'sub_area', 'area_m', 'raion_popul', 'green_zone_part',\n",
       "       'indust_part', 'children_preschool', 'preschool_quota',\n",
       "       'preschool_education_centers_raion', 'children_school', 'school_quota',\n",
       "       'school_education_centers_raion',\n",
       "       'school_education_centers_top_20_raion', 'hospital_beds_raion',\n",
       "       'healthcare_centers_raion', 'university_top_20_raion',\n",
       "       'sport_objects_raion', 'additional_education_raion',\n",
       "       'culture_objects_top_25', 'culture_objects_top_25_raion',\n",
       "       'shopping_centers_raion', 'office_raion', 'thermal_power_plant_raion',\n",
       "       'incineration_raion', 'oil_chemistry_raion', 'radiation_raion',\n",
       "       'railroad_terminal_raion', 'big_market_raion', 'nuclear_reactor_raion',\n",
       "       'detention_facility_raion', 'full_all', 'male_f', 'female_f',\n",
       "       'young_all', 'young_male', 'young_female', 'work_all', 'work_male',\n",
       "       'work_female', 'ekder_all', 'ekder_male', 'ekder_female', '0_6_all',\n",
       "       '0_6_male', '0_6_female', '7_14_all', '7_14_male', '7_14_female',\n",
       "       '0_17_all', '0_17_male', '0_17_female', '16_29_all', '16_29_male',\n",
       "       '16_29_female', '0_13_all', '0_13_male', '0_13_female',\n",
       "       'raion_build_count_with_material_info', 'build_count_block',\n",
       "       'build_count_wood', 'build_count_frame', 'build_count_brick',\n",
       "       'build_count_monolith', 'build_count_panel', 'build_count_foam',\n",
       "       'build_count_slag', 'build_count_mix',\n",
       "       'raion_build_count_with_builddate_info', 'build_count_before_1920',\n",
       "       'build_count_1921-1945', 'build_count_1946-1970',\n",
       "       'build_count_1971-1995', 'build_count_after_1995', 'ID_metro',\n",
       "       'metro_min_avto', 'metro_km_avto', 'metro_min_walk', 'metro_km_walk',\n",
       "       'kindergarten_km', 'school_km', 'park_km', 'green_zone_km',\n",
       "       'industrial_km', 'water_treatment_km', 'cemetery_km', 'incineration_km',\n",
       "       'railroad_station_walk_km', 'railroad_station_walk_min',\n",
       "       'ID_railroad_station_walk'],\n",
       "      dtype='object')"
      ]
     },
     "execution_count": 5,
     "metadata": {},
     "output_type": "execute_result"
    }
   ],
   "source": [
    "train_df.columns[0:100]"
   ]
  },
  {
   "cell_type": "code",
   "execution_count": 7,
   "metadata": {
    "collapsed": false
   },
   "outputs": [
    {
     "data": {
      "text/plain": [
       "Index(['railroad_station_avto_km', 'railroad_station_avto_min',\n",
       "       'ID_railroad_station_avto', 'public_transport_station_km',\n",
       "       'public_transport_station_min_walk', 'water_km', 'water_1line',\n",
       "       'mkad_km', 'ttk_km', 'sadovoe_km', 'bulvar_ring_km', 'kremlin_km',\n",
       "       'big_road1_km', 'ID_big_road1', 'big_road1_1line', 'big_road2_km',\n",
       "       'ID_big_road2', 'railroad_km', 'railroad_1line', 'zd_vokzaly_avto_km',\n",
       "       'ID_railroad_terminal', 'bus_terminal_avto_km', 'ID_bus_terminal',\n",
       "       'oil_chemistry_km', 'nuclear_reactor_km', 'radiation_km',\n",
       "       'power_transmission_line_km', 'thermal_power_plant_km', 'ts_km',\n",
       "       'big_market_km', 'market_shop_km', 'fitness_km', 'swim_pool_km',\n",
       "       'ice_rink_km', 'stadium_km', 'basketball_km', 'hospice_morgue_km',\n",
       "       'detention_facility_km', 'public_healthcare_km', 'university_km',\n",
       "       'workplaces_km', 'shopping_centers_km', 'office_km',\n",
       "       'additional_education_km', 'preschool_km', 'big_church_km',\n",
       "       'church_synagogue_km', 'mosque_km', 'theater_km', 'museum_km',\n",
       "       'exhibition_km', 'catering_km', 'ecology', 'green_part_500',\n",
       "       'prom_part_500', 'office_count_500', 'office_sqm_500', 'trc_count_500',\n",
       "       'trc_sqm_500', 'cafe_count_500', 'cafe_sum_500_min_price_avg',\n",
       "       'cafe_sum_500_max_price_avg', 'cafe_avg_price_500',\n",
       "       'cafe_count_500_na_price', 'cafe_count_500_price_500',\n",
       "       'cafe_count_500_price_1000', 'cafe_count_500_price_1500',\n",
       "       'cafe_count_500_price_2500', 'cafe_count_500_price_4000',\n",
       "       'cafe_count_500_price_high', 'big_church_count_500', 'church_count_500',\n",
       "       'mosque_count_500', 'leisure_count_500', 'sport_count_500',\n",
       "       'market_count_500', 'green_part_1000', 'prom_part_1000',\n",
       "       'office_count_1000', 'office_sqm_1000', 'trc_count_1000',\n",
       "       'trc_sqm_1000', 'cafe_count_1000', 'cafe_sum_1000_min_price_avg',\n",
       "       'cafe_sum_1000_max_price_avg', 'cafe_avg_price_1000',\n",
       "       'cafe_count_1000_na_price', 'cafe_count_1000_price_500',\n",
       "       'cafe_count_1000_price_1000', 'cafe_count_1000_price_1500',\n",
       "       'cafe_count_1000_price_2500', 'cafe_count_1000_price_4000',\n",
       "       'cafe_count_1000_price_high', 'big_church_count_1000',\n",
       "       'church_count_1000', 'mosque_count_1000', 'leisure_count_1000',\n",
       "       'sport_count_1000', 'market_count_1000', 'green_part_1500'],\n",
       "      dtype='object')"
      ]
     },
     "execution_count": 7,
     "metadata": {},
     "output_type": "execute_result"
    }
   ],
   "source": [
    "train_df.columns[100:200]"
   ]
  },
  {
   "cell_type": "code",
   "execution_count": 8,
   "metadata": {
    "collapsed": false
   },
   "outputs": [
    {
     "data": {
      "text/plain": [
       "Index(['prom_part_1500', 'office_count_1500', 'office_sqm_1500',\n",
       "       'trc_count_1500', 'trc_sqm_1500', 'cafe_count_1500',\n",
       "       'cafe_sum_1500_min_price_avg', 'cafe_sum_1500_max_price_avg',\n",
       "       'cafe_avg_price_1500', 'cafe_count_1500_na_price',\n",
       "       'cafe_count_1500_price_500', 'cafe_count_1500_price_1000',\n",
       "       'cafe_count_1500_price_1500', 'cafe_count_1500_price_2500',\n",
       "       'cafe_count_1500_price_4000', 'cafe_count_1500_price_high',\n",
       "       'big_church_count_1500', 'church_count_1500', 'mosque_count_1500',\n",
       "       'leisure_count_1500', 'sport_count_1500', 'market_count_1500',\n",
       "       'green_part_2000', 'prom_part_2000', 'office_count_2000',\n",
       "       'office_sqm_2000', 'trc_count_2000', 'trc_sqm_2000', 'cafe_count_2000',\n",
       "       'cafe_sum_2000_min_price_avg', 'cafe_sum_2000_max_price_avg',\n",
       "       'cafe_avg_price_2000', 'cafe_count_2000_na_price',\n",
       "       'cafe_count_2000_price_500', 'cafe_count_2000_price_1000',\n",
       "       'cafe_count_2000_price_1500', 'cafe_count_2000_price_2500',\n",
       "       'cafe_count_2000_price_4000', 'cafe_count_2000_price_high',\n",
       "       'big_church_count_2000', 'church_count_2000', 'mosque_count_2000',\n",
       "       'leisure_count_2000', 'sport_count_2000', 'market_count_2000',\n",
       "       'green_part_3000', 'prom_part_3000', 'office_count_3000',\n",
       "       'office_sqm_3000', 'trc_count_3000', 'trc_sqm_3000', 'cafe_count_3000',\n",
       "       'cafe_sum_3000_min_price_avg', 'cafe_sum_3000_max_price_avg',\n",
       "       'cafe_avg_price_3000', 'cafe_count_3000_na_price',\n",
       "       'cafe_count_3000_price_500', 'cafe_count_3000_price_1000',\n",
       "       'cafe_count_3000_price_1500', 'cafe_count_3000_price_2500',\n",
       "       'cafe_count_3000_price_4000', 'cafe_count_3000_price_high',\n",
       "       'big_church_count_3000', 'church_count_3000', 'mosque_count_3000',\n",
       "       'leisure_count_3000', 'sport_count_3000', 'market_count_3000',\n",
       "       'green_part_5000', 'prom_part_5000', 'office_count_5000',\n",
       "       'office_sqm_5000', 'trc_count_5000', 'trc_sqm_5000', 'cafe_count_5000',\n",
       "       'cafe_sum_5000_min_price_avg', 'cafe_sum_5000_max_price_avg',\n",
       "       'cafe_avg_price_5000', 'cafe_count_5000_na_price',\n",
       "       'cafe_count_5000_price_500', 'cafe_count_5000_price_1000',\n",
       "       'cafe_count_5000_price_1500', 'cafe_count_5000_price_2500',\n",
       "       'cafe_count_5000_price_4000', 'cafe_count_5000_price_high',\n",
       "       'big_church_count_5000', 'church_count_5000', 'mosque_count_5000',\n",
       "       'leisure_count_5000', 'sport_count_5000', 'market_count_5000',\n",
       "       'price_doc'],\n",
       "      dtype='object')"
      ]
     },
     "execution_count": 8,
     "metadata": {},
     "output_type": "execute_result"
    }
   ],
   "source": [
    "train_df.columns[200:292]"
   ]
  },
  {
   "cell_type": "code",
   "execution_count": null,
   "metadata": {
    "collapsed": false
   },
   "outputs": [],
   "source": [
    "ind =train_df[(train_df.build_year <=1691) | (train_df.build_year >=2018)].index\n",
    "by_df =train_df.drop(ind).sort_values(by=['build_year'])\n",
    "f, ax = plt.subplots(figsize=(12, 8))\n",
    "plt.xticks(rotation='90')\n",
    "sns.countplot(x=by_df['build_year'])\n",
    "ax.set(title='Distribution of build year')"
   ]
  },
  {
   "cell_type": "code",
   "execution_count": null,
   "metadata": {
    "collapsed": false
   },
   "outputs": [],
   "source": [
    "f, ax = plt.subplots(figsize=(12, 6))\n",
    "by_price = by_df.groupby('build_year')[['build_year', 'price_doc']].mean()\n",
    "sns.regplot(x=\"build_year\", y=\"price_doc\", data=by_price, scatter=False, order=3, truncate=True)\n",
    "plt.plot(by_price['build_year'], by_price['price_doc'], color='r')\n",
    "ax.set(title='Mean price by year of build')"
   ]
  },
  {
   "cell_type": "code",
   "execution_count": null,
   "metadata": {
    "collapsed": false,
    "scrolled": true
   },
   "outputs": [],
   "source": [
    "by_price"
   ]
  }
 ],
 "metadata": {
  "anaconda-cloud": {},
  "kernelspec": {
   "display_name": "Python [default]",
   "language": "python",
   "name": "python3"
  },
  "language_info": {
   "codemirror_mode": {
    "name": "ipython",
    "version": 3
   },
   "file_extension": ".py",
   "mimetype": "text/x-python",
   "name": "python",
   "nbconvert_exporter": "python",
   "pygments_lexer": "ipython3",
   "version": "3.5.2"
  }
 },
 "nbformat": 4,
 "nbformat_minor": 2
}
